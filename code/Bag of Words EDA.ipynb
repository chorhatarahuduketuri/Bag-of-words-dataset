{
 "cells": [
  {
   "cell_type": "markdown",
   "metadata": {},
   "source": [
    "# Bag of Words EDA"
   ]
  },
  {
   "cell_type": "code",
   "execution_count": 136,
   "metadata": {},
   "outputs": [],
   "source": [
    "# Imports\n",
    "import pandas as pd\n",
    "import matplotlib.pyplot as plt\n",
    "import seaborn as sns"
   ]
  },
  {
   "cell_type": "markdown",
   "metadata": {},
   "source": [
    "The data isn't a nicely formatted CSV file, so at this point I'll have to 'read the manual' to figure out how to load it. \n",
    "\n",
    "### Read the manual\n",
    "\n",
    ">Data Set Characteristics: Text\n",
    "...\n",
    "Attribute Characteristics: Integer\n",
    "...\n",
    "Associated Tasks: Clustering\n",
    "Missing Values? N/A\n",
    "\n",
    "The data is text data, there is also numeric (integer) data, clustering is a suggested approach, and there are no missing data.\n",
    "\n",
    ">D is the number of documents, W is the\n",
    "number of words in the vocabulary, and N is the total number of words\n",
    "in the collection \n",
    "\n",
    "For each dataset, there is acount of the number of documents, there is a count of the number of discrete words, and there is a count of the total number of words. \n",
    "\n",
    ">After tokenization and removal of stopwords, the\n",
    "vocabulary of unique words was truncated by only keeping words that\n",
    "occurred more than ten times\n",
    "\n",
    "The words were tokenised, which explains the integer data. Stopwords were removed, so some noise has already been removed from the dataset. Only words that were used 10+ times in a datset will be counted within the documents of that dataset, which again removes noise that can't be usefully learnt from (if a word is only used once in one document, how can a model learn usefully from that for predicting other documents?)\n",
    "\n",
    ">These data sets have no class labels, and for copyright reasons no\n",
    "filenames or other document-level metadata.  These data sets are ideal\n",
    "for clustering and topic modeling experiments.\n",
    "\n",
    "There are no class labels, so there will be no supervised learning. Clustering is suggested again. \n",
    "\n",
    ">For each text collection we provide docword.*.txt (the bag of words\n",
    "file in sparse format) and vocab.*.txt (the vocab file).\n",
    "\n",
    "The data comes in two separate files. One has the counts, and one has the actual words. \n",
    "\n",
    ">Enron Emails:  \n",
    "orig source: www.cs.cmu.edu/~enron  \n",
    "D=39861  \n",
    "W=28102  \n",
    "N=6,400,000 (approx)\n",
    "\n",
    "There are ~40,000 data samples, ~28,000 features (discrete words), and ~6,400,000 words in total. Given the possible amount of data is 93861\\*28192=1,120,173,822, and 6400000/1120173822=0.57%, which makes this a _very_ sparse dataset. \n",
    "\n",
    ">(below, NNZ is the number of nonzero counts in the\n",
    "bag-of-words)  \n",
    "\n",
    ">The format of the docword.*.txt file is 3 header lines, followed by NNZ triples:  \n",
    "---  \n",
    "D  \n",
    "W  \n",
    "NNZ  \n",
    "docID wordID count\n",
    "\n",
    "I should remove the first three lines of the file when reading it in, and add them manually as column headers. \n",
    "\n",
    ">The format of the vocab.*.txt file is line contains wordID=n.\n",
    "\n",
    "Assuming n is line number, then that explains the key between docword files and vocab files. It doesn't tell me if that count starts from zero or one, so I'll have to check if zeros appear in the docword data once loaded. \n",
    "\n",
    "So, the data is awkwardly arranged and very sparse. "
   ]
  },
  {
   "cell_type": "code",
   "execution_count": 2,
   "metadata": {},
   "outputs": [],
   "source": [
    "# Data loading\n",
    "docword_column_names = ['docID', 'wordID', 'count']\n",
    "docword_data = pd.read_csv('../input/docword.enron.txt', delim_whitespace=True, header=None, skiprows=3, names=docword_column_names)\n",
    "vocab_column_names = ['word']\n",
    "vocab_data = pd.read_csv('../input/vocab.enron.txt', delim_whitespace=True, header=None, names=vocab_column_names)"
   ]
  },
  {
   "cell_type": "code",
   "execution_count": 3,
   "metadata": {},
   "outputs": [
    {
     "data": {
      "text/html": [
       "<div>\n",
       "<style scoped>\n",
       "    .dataframe tbody tr th:only-of-type {\n",
       "        vertical-align: middle;\n",
       "    }\n",
       "\n",
       "    .dataframe tbody tr th {\n",
       "        vertical-align: top;\n",
       "    }\n",
       "\n",
       "    .dataframe thead th {\n",
       "        text-align: right;\n",
       "    }\n",
       "</style>\n",
       "<table border=\"1\" class=\"dataframe\">\n",
       "  <thead>\n",
       "    <tr style=\"text-align: right;\">\n",
       "      <th></th>\n",
       "      <th>docID</th>\n",
       "      <th>wordID</th>\n",
       "      <th>count</th>\n",
       "    </tr>\n",
       "  </thead>\n",
       "  <tbody>\n",
       "    <tr>\n",
       "      <th>463546</th>\n",
       "      <td>6215</td>\n",
       "      <td>16538</td>\n",
       "      <td>1</td>\n",
       "    </tr>\n",
       "    <tr>\n",
       "      <th>1513672</th>\n",
       "      <td>22251</td>\n",
       "      <td>26042</td>\n",
       "      <td>1</td>\n",
       "    </tr>\n",
       "    <tr>\n",
       "      <th>2183547</th>\n",
       "      <td>28113</td>\n",
       "      <td>12037</td>\n",
       "      <td>1</td>\n",
       "    </tr>\n",
       "    <tr>\n",
       "      <th>423124</th>\n",
       "      <td>5811</td>\n",
       "      <td>24206</td>\n",
       "      <td>1</td>\n",
       "    </tr>\n",
       "    <tr>\n",
       "      <th>3214446</th>\n",
       "      <td>33983</td>\n",
       "      <td>5007</td>\n",
       "      <td>1</td>\n",
       "    </tr>\n",
       "  </tbody>\n",
       "</table>\n",
       "</div>"
      ],
      "text/plain": [
       "         docID  wordID  count\n",
       "463546    6215   16538      1\n",
       "1513672  22251   26042      1\n",
       "2183547  28113   12037      1\n",
       "423124    5811   24206      1\n",
       "3214446  33983    5007      1"
      ]
     },
     "execution_count": 3,
     "metadata": {},
     "output_type": "execute_result"
    }
   ],
   "source": [
    "# Lets take a look at random samples of the datasets. For the sake of presentation each will be in it's own cell. \n",
    "docword_data.sample(5, random_state=4)"
   ]
  },
  {
   "cell_type": "markdown",
   "metadata": {},
   "source": [
    "The data appears to be as described, integer numerical data, with docID and wordID being nominal categorical data, and count being discrete ratio data. "
   ]
  },
  {
   "cell_type": "code",
   "execution_count": 4,
   "metadata": {},
   "outputs": [
    {
     "data": {
      "text/html": [
       "<div>\n",
       "<style scoped>\n",
       "    .dataframe tbody tr th:only-of-type {\n",
       "        vertical-align: middle;\n",
       "    }\n",
       "\n",
       "    .dataframe tbody tr th {\n",
       "        vertical-align: top;\n",
       "    }\n",
       "\n",
       "    .dataframe thead th {\n",
       "        text-align: right;\n",
       "    }\n",
       "</style>\n",
       "<table border=\"1\" class=\"dataframe\">\n",
       "  <thead>\n",
       "    <tr style=\"text-align: right;\">\n",
       "      <th></th>\n",
       "      <th>word</th>\n",
       "    </tr>\n",
       "  </thead>\n",
       "  <tbody>\n",
       "    <tr>\n",
       "      <th>24695</th>\n",
       "      <td>tahomaarial</td>\n",
       "    </tr>\n",
       "    <tr>\n",
       "      <th>24097</th>\n",
       "      <td>street</td>\n",
       "    </tr>\n",
       "    <tr>\n",
       "      <th>15783</th>\n",
       "      <td>mexicos</td>\n",
       "    </tr>\n",
       "    <tr>\n",
       "      <th>14723</th>\n",
       "      <td>longrun</td>\n",
       "    </tr>\n",
       "    <tr>\n",
       "      <th>8018</th>\n",
       "      <td>eliminating</td>\n",
       "    </tr>\n",
       "  </tbody>\n",
       "</table>\n",
       "</div>"
      ],
      "text/plain": [
       "              word\n",
       "24695  tahomaarial\n",
       "24097       street\n",
       "15783      mexicos\n",
       "14723      longrun\n",
       "8018   eliminating"
      ]
     },
     "execution_count": 4,
     "metadata": {},
     "output_type": "execute_result"
    }
   ],
   "source": [
    "vocab_data.sample(5, random_state=4)"
   ]
  },
  {
   "cell_type": "markdown",
   "metadata": {},
   "source": [
    "Again, this all appears to be as described, and is obviously nominal categorical data. "
   ]
  },
  {
   "cell_type": "code",
   "execution_count": 5,
   "metadata": {},
   "outputs": [
    {
     "data": {
      "text/html": [
       "<div>\n",
       "<style scoped>\n",
       "    .dataframe tbody tr th:only-of-type {\n",
       "        vertical-align: middle;\n",
       "    }\n",
       "\n",
       "    .dataframe tbody tr th {\n",
       "        vertical-align: top;\n",
       "    }\n",
       "\n",
       "    .dataframe thead th {\n",
       "        text-align: right;\n",
       "    }\n",
       "</style>\n",
       "<table border=\"1\" class=\"dataframe\">\n",
       "  <thead>\n",
       "    <tr style=\"text-align: right;\">\n",
       "      <th></th>\n",
       "      <th>docID</th>\n",
       "      <th>wordID</th>\n",
       "      <th>count</th>\n",
       "    </tr>\n",
       "  </thead>\n",
       "  <tbody>\n",
       "    <tr>\n",
       "      <th>count</th>\n",
       "      <td>3.710420e+06</td>\n",
       "      <td>3.710420e+06</td>\n",
       "      <td>3.710420e+06</td>\n",
       "    </tr>\n",
       "    <tr>\n",
       "      <th>mean</th>\n",
       "      <td>2.268149e+04</td>\n",
       "      <td>1.393388e+04</td>\n",
       "      <td>1.728153e+00</td>\n",
       "    </tr>\n",
       "    <tr>\n",
       "      <th>std</th>\n",
       "      <td>1.094254e+04</td>\n",
       "      <td>8.020984e+03</td>\n",
       "      <td>2.565260e+00</td>\n",
       "    </tr>\n",
       "    <tr>\n",
       "      <th>min</th>\n",
       "      <td>1.000000e+00</td>\n",
       "      <td>1.000000e+00</td>\n",
       "      <td>1.000000e+00</td>\n",
       "    </tr>\n",
       "    <tr>\n",
       "      <th>25%</th>\n",
       "      <td>1.403200e+04</td>\n",
       "      <td>6.808000e+03</td>\n",
       "      <td>1.000000e+00</td>\n",
       "    </tr>\n",
       "    <tr>\n",
       "      <th>50%</th>\n",
       "      <td>2.557000e+04</td>\n",
       "      <td>1.415600e+04</td>\n",
       "      <td>1.000000e+00</td>\n",
       "    </tr>\n",
       "    <tr>\n",
       "      <th>75%</th>\n",
       "      <td>3.168300e+04</td>\n",
       "      <td>2.083500e+04</td>\n",
       "      <td>2.000000e+00</td>\n",
       "    </tr>\n",
       "    <tr>\n",
       "      <th>max</th>\n",
       "      <td>3.986100e+04</td>\n",
       "      <td>2.810200e+04</td>\n",
       "      <td>4.030000e+02</td>\n",
       "    </tr>\n",
       "  </tbody>\n",
       "</table>\n",
       "</div>"
      ],
      "text/plain": [
       "              docID        wordID         count\n",
       "count  3.710420e+06  3.710420e+06  3.710420e+06\n",
       "mean   2.268149e+04  1.393388e+04  1.728153e+00\n",
       "std    1.094254e+04  8.020984e+03  2.565260e+00\n",
       "min    1.000000e+00  1.000000e+00  1.000000e+00\n",
       "25%    1.403200e+04  6.808000e+03  1.000000e+00\n",
       "50%    2.557000e+04  1.415600e+04  1.000000e+00\n",
       "75%    3.168300e+04  2.083500e+04  2.000000e+00\n",
       "max    3.986100e+04  2.810200e+04  4.030000e+02"
      ]
     },
     "execution_count": 5,
     "metadata": {},
     "output_type": "execute_result"
    }
   ],
   "source": [
    "# Descriptive statistics\n",
    "docword_data.describe()"
   ]
  },
  {
   "cell_type": "markdown",
   "metadata": {},
   "source": [
    "While not the easiest to read, the above statistical description does confirm that the wordID does not start from zero, there are 39861 documents and 28102 discrete words. Also interesting to note, is that while the minimum number of times a word appears in a document is one, and the mean is 1.728, and the 75% is two, the max is 403, which is (relatively) a huge number. "
   ]
  },
  {
   "cell_type": "code",
   "execution_count": 6,
   "metadata": {},
   "outputs": [
    {
     "data": {
      "text/html": [
       "<div>\n",
       "<style scoped>\n",
       "    .dataframe tbody tr th:only-of-type {\n",
       "        vertical-align: middle;\n",
       "    }\n",
       "\n",
       "    .dataframe tbody tr th {\n",
       "        vertical-align: top;\n",
       "    }\n",
       "\n",
       "    .dataframe thead th {\n",
       "        text-align: right;\n",
       "    }\n",
       "</style>\n",
       "<table border=\"1\" class=\"dataframe\">\n",
       "  <thead>\n",
       "    <tr style=\"text-align: right;\">\n",
       "      <th></th>\n",
       "      <th>word</th>\n",
       "    </tr>\n",
       "  </thead>\n",
       "  <tbody>\n",
       "    <tr>\n",
       "      <th>count</th>\n",
       "      <td>28101</td>\n",
       "    </tr>\n",
       "    <tr>\n",
       "      <th>unique</th>\n",
       "      <td>28101</td>\n",
       "    </tr>\n",
       "    <tr>\n",
       "      <th>top</th>\n",
       "      <td>mis</td>\n",
       "    </tr>\n",
       "    <tr>\n",
       "      <th>freq</th>\n",
       "      <td>1</td>\n",
       "    </tr>\n",
       "  </tbody>\n",
       "</table>\n",
       "</div>"
      ],
      "text/plain": [
       "         word\n",
       "count   28101\n",
       "unique  28101\n",
       "top       mis\n",
       "freq        1"
      ]
     },
     "execution_count": 6,
     "metadata": {},
     "output_type": "execute_result"
    }
   ],
   "source": [
    "vocab_data.describe()"
   ]
  },
  {
   "cell_type": "markdown",
   "metadata": {},
   "source": [
    "Of limited use, this at least confirms that there are 28102 discrete words (shown as 28101 because it started counting from zero).  \n",
    "That means there'll be an off-by-one error for all the references between the two data structures.  "
   ]
  },
  {
   "cell_type": "markdown",
   "metadata": {},
   "source": [
    "###### Note \n",
    "It should be noted that the data in this dataset, while it will be treated as if it's features are independent, doesn't not actually have independent variables. The occurence of one word is dependent on the occurence or lack of occurent of other words preceeding it in a sentence. "
   ]
  },
  {
   "cell_type": "code",
   "execution_count": 196,
   "metadata": {},
   "outputs": [
    {
     "data": {
      "image/png": "[encoded data removed]",
      "text/plain": [
       "<Figure size 1296x576 with 1 Axes>"
      ]
     },
     "metadata": {
      "needs_background": "light"
     },
     "output_type": "display_data"
    }
   ],
   "source": [
    "sorted_counts = docword_data[['wordID', 'count']].groupby('wordID').sum().sort_values('count', ascending=False)\n",
    "high_word_counts =  sorted_counts[0:50]\n",
    "\n",
    "f = lambda x: x-1\n",
    "high_word_indexes = high_word_counts.index.tolist()\n",
    "high_word_indexes[:] = [x - 1 for x in high_word_indexes]\n",
    "most_common_words = vocab_data.iloc[high_word_indexes]['word'].values.tolist()\n",
    "most_common_word_counts = high_word_counts.iloc[0:50,:]['count'].values.tolist()\n",
    "\n",
    "fig_1, ax_1 = plt.subplots(figsize=(18,8))\n",
    "ax_1.bar(most_common_words, most_common_word_counts)\n",
    "plt.xticks(rotation='vertical');"
   ]
  },
  {
   "cell_type": "markdown",
   "metadata": {},
   "source": [
    "The most common words occur thousands of times more than any word after them, and even then the most common two words occur as many times more than the fifth most common word, as that word does the sixth.  \n",
    "The 21 top words are all nouns, or can be used as nouns. The 22nd word; 'think', is the most common word that isn't a noun. "
   ]
  },
  {
   "cell_type": "code",
   "execution_count": 202,
   "metadata": {},
   "outputs": [
    {
     "data": {
      "image/png": "[encoded data removed]",
      "text/plain": [
       "<Figure size 1296x576 with 1 Axes>"
      ]
     },
     "metadata": {
      "needs_background": "light"
     },
     "output_type": "display_data"
    }
   ],
   "source": [
    "low_word_counts =  sorted_counts[-50:]\n",
    "\n",
    "f = lambda x: x-1\n",
    "low_word_indexes = low_word_counts.index.tolist()\n",
    "low_word_indexes[:] = [x - 1 for x in low_word_indexes]\n",
    "least_common_words = vocab_data.iloc[low_word_indexes]['word'].values.tolist()\n",
    "least_common_word_counts = low_word_counts.iloc[0:50,:]['count'].values.tolist()\n",
    "\n",
    "fig_2, ax_2 = plt.subplots(figsize=(18,8))\n",
    "ax_2.bar(least_common_words, least_common_word_counts)\n",
    "plt.xticks(rotation='vertical');"
   ]
  },
  {
   "cell_type": "markdown",
   "metadata": {},
   "source": [
    "There are three words that occur only once in the entire dataset; 'am1000', 'lynnout', 'mtgraetta'. A lot of the least comon words look like misspellings and typos. "
   ]
  },
  {
   "cell_type": "markdown",
   "metadata": {},
   "source": [
    "The most and least common words are interesting to look at, but don't actually tell me very much.  \n",
    "What would be interesting, would be to look at: \n",
    "1. The length of emails (number of words per document)\n",
    "2. Look for outlier emails based on what words occur in them (if there is enough consistency in the content of emails for outliers to make up a minority of the documents)\n",
    "3. If the least common words end up in the same clusters? \n",
    "4. If the least common words end up in the same emails? "
   ]
  }
 ],
 "metadata": {
  "kernelspec": {
   "display_name": "Python 3",
   "language": "python",
   "name": "python3"
  },
  "language_info": {
   "codemirror_mode": {
    "name": "ipython",
    "version": 3
   },
   "file_extension": ".py",
   "mimetype": "text/x-python",
   "name": "python",
   "nbconvert_exporter": "python",
   "pygments_lexer": "ipython3",
   "version": "3.6.6"
  }
 },
 "nbformat": 4,
 "nbformat_minor": 2
}
