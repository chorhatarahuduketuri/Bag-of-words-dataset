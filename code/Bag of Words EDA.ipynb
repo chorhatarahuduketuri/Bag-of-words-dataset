{
 "cells": [
  {
   "cell_type": "markdown",
   "metadata": {},
   "source": [
    "# Bag of Words EDA"
   ]
  },
  {
   "cell_type": "code",
   "execution_count": 1,
   "metadata": {},
   "outputs": [],
   "source": [
    "# Imports\n",
    "import pandas as pd\n",
    "import matplotlib.pyplot as plt\n",
    "import seaborn as sns\n",
    "from scipy import stats\n",
    "\n",
    "# Supress the unnumbered hordes of warnings that make output completely unreadable\n",
    "import warnings\n",
    "warnings.filterwarnings(\"ignore\", category=FutureWarning)"
   ]
  },
  {
   "cell_type": "markdown",
   "metadata": {},
   "source": [
    "The data isn't a nicely formatted CSV file, so at this point I'll have to 'read the manual' to figure out how to load it. \n",
    "\n",
    "### Read the manual\n",
    "\n",
    ">Data Set Characteristics: Text\n",
    "...\n",
    "Attribute Characteristics: Integer\n",
    "...\n",
    "Associated Tasks: Clustering\n",
    "Missing Values? N/A\n",
    "\n",
    "The data is text data, there is also numeric (integer) data, clustering is a suggested approach, and there are no missing data.\n",
    "\n",
    ">D is the number of documents, W is the\n",
    "number of words in the vocabulary, and N is the total number of words\n",
    "in the collection \n",
    "\n",
    "For each dataset, there is acount of the number of documents, there is a count of the number of discrete words, and there is a count of the total number of words. \n",
    "\n",
    ">After tokenization and removal of stopwords, the\n",
    "vocabulary of unique words was truncated by only keeping words that\n",
    "occurred more than ten times\n",
    "\n",
    "The words were tokenised, which explains the integer data. Stopwords were removed, so some noise has already been removed from the dataset. Only words that were used 10+ times in a datset will be counted within the documents of that dataset, which again removes noise that can't be usefully learnt from (if a word is only used once in one document, how can a model learn usefully from that for predicting other documents?)\n",
    "\n",
    ">These data sets have no class labels, and for copyright reasons no\n",
    "filenames or other document-level metadata.  These data sets are ideal\n",
    "for clustering and topic modeling experiments.\n",
    "\n",
    "There are no class labels, so there will be no supervised learning. Clustering is suggested again. \n",
    "\n",
    ">For each text collection we provide docword.*.txt (the bag of words\n",
    "file in sparse format) and vocab.*.txt (the vocab file).\n",
    "\n",
    "The data comes in two separate files. One has the counts, and one has the actual words. \n",
    "\n",
    ">Enron Emails:  \n",
    "orig source: www.cs.cmu.edu/~enron  \n",
    "D=39861  \n",
    "W=28102  \n",
    "N=6,400,000 (approx)\n",
    "\n",
    "There are ~40,000 data samples, ~28,000 features (discrete words), and ~6,400,000 words in total. Given the possible amount of data is 93861\\*28192=1,120,173,822, and 6400000/1120173822=0.57%, which makes this a _very_ sparse dataset. \n",
    "\n",
    ">(below, NNZ is the number of nonzero counts in the\n",
    "bag-of-words)  \n",
    "\n",
    ">The format of the docword.*.txt file is 3 header lines, followed by NNZ triples:  \n",
    "---  \n",
    "D  \n",
    "W  \n",
    "NNZ  \n",
    "docID wordID count\n",
    "\n",
    "I should remove the first three lines of the file when reading it in, and add them manually as column headers. \n",
    "\n",
    ">The format of the vocab.*.txt file is line contains wordID=n.\n",
    "\n",
    "Assuming n is line number, then that explains the key between docword files and vocab files. It doesn't tell me if that count starts from zero or one, so I'll have to check if zeros appear in the docword data once loaded. \n",
    "\n",
    "So, the data is awkwardly arranged and very sparse. "
   ]
  },
  {
   "cell_type": "code",
   "execution_count": 2,
   "metadata": {},
   "outputs": [],
   "source": [
    "# Data loading\n",
    "docword_column_names = ['docID', 'wordID', 'count']\n",
    "docword_data = pd.read_csv('../input/docword.enron.txt', delim_whitespace=True, header=None, skiprows=3, names=docword_column_names)\n",
    "vocab_column_names = ['word']\n",
    "vocab_data = pd.read_csv('../input/vocab.enron.txt', delim_whitespace=True, header=None, names=vocab_column_names)"
   ]
  },
  {
   "cell_type": "code",
   "execution_count": 3,
   "metadata": {},
   "outputs": [
    {
     "data": {
      "text/html": [
       "<div>\n",
       "<style scoped>\n",
       "    .dataframe tbody tr th:only-of-type {\n",
       "        vertical-align: middle;\n",
       "    }\n",
       "\n",
       "    .dataframe tbody tr th {\n",
       "        vertical-align: top;\n",
       "    }\n",
       "\n",
       "    .dataframe thead th {\n",
       "        text-align: right;\n",
       "    }\n",
       "</style>\n",
       "<table border=\"1\" class=\"dataframe\">\n",
       "  <thead>\n",
       "    <tr style=\"text-align: right;\">\n",
       "      <th></th>\n",
       "      <th>docID</th>\n",
       "      <th>wordID</th>\n",
       "      <th>count</th>\n",
       "    </tr>\n",
       "  </thead>\n",
       "  <tbody>\n",
       "    <tr>\n",
       "      <th>463546</th>\n",
       "      <td>6215</td>\n",
       "      <td>16538</td>\n",
       "      <td>1</td>\n",
       "    </tr>\n",
       "    <tr>\n",
       "      <th>1513672</th>\n",
       "      <td>22251</td>\n",
       "      <td>26042</td>\n",
       "      <td>1</td>\n",
       "    </tr>\n",
       "    <tr>\n",
       "      <th>2183547</th>\n",
       "      <td>28113</td>\n",
       "      <td>12037</td>\n",
       "      <td>1</td>\n",
       "    </tr>\n",
       "    <tr>\n",
       "      <th>423124</th>\n",
       "      <td>5811</td>\n",
       "      <td>24206</td>\n",
       "      <td>1</td>\n",
       "    </tr>\n",
       "    <tr>\n",
       "      <th>3214446</th>\n",
       "      <td>33983</td>\n",
       "      <td>5007</td>\n",
       "      <td>1</td>\n",
       "    </tr>\n",
       "  </tbody>\n",
       "</table>\n",
       "</div>"
      ],
      "text/plain": [
       "         docID  wordID  count\n",
       "463546    6215   16538      1\n",
       "1513672  22251   26042      1\n",
       "2183547  28113   12037      1\n",
       "423124    5811   24206      1\n",
       "3214446  33983    5007      1"
      ]
     },
     "execution_count": 3,
     "metadata": {},
     "output_type": "execute_result"
    }
   ],
   "source": [
    "# Lets take a look at random samples of the datasets. For the sake of presentation each will be in it's own cell. \n",
    "docword_data.sample(5, random_state=4)"
   ]
  },
  {
   "cell_type": "markdown",
   "metadata": {},
   "source": [
    "The data appears to be as described, integer numerical data, with docID and wordID being nominal categorical data, and count being discrete ratio data. "
   ]
  },
  {
   "cell_type": "code",
   "execution_count": 4,
   "metadata": {},
   "outputs": [
    {
     "data": {
      "text/html": [
       "<div>\n",
       "<style scoped>\n",
       "    .dataframe tbody tr th:only-of-type {\n",
       "        vertical-align: middle;\n",
       "    }\n",
       "\n",
       "    .dataframe tbody tr th {\n",
       "        vertical-align: top;\n",
       "    }\n",
       "\n",
       "    .dataframe thead th {\n",
       "        text-align: right;\n",
       "    }\n",
       "</style>\n",
       "<table border=\"1\" class=\"dataframe\">\n",
       "  <thead>\n",
       "    <tr style=\"text-align: right;\">\n",
       "      <th></th>\n",
       "      <th>word</th>\n",
       "    </tr>\n",
       "  </thead>\n",
       "  <tbody>\n",
       "    <tr>\n",
       "      <th>24695</th>\n",
       "      <td>tahomaarial</td>\n",
       "    </tr>\n",
       "    <tr>\n",
       "      <th>24097</th>\n",
       "      <td>street</td>\n",
       "    </tr>\n",
       "    <tr>\n",
       "      <th>15783</th>\n",
       "      <td>mexicos</td>\n",
       "    </tr>\n",
       "    <tr>\n",
       "      <th>14723</th>\n",
       "      <td>longrun</td>\n",
       "    </tr>\n",
       "    <tr>\n",
       "      <th>8018</th>\n",
       "      <td>eliminating</td>\n",
       "    </tr>\n",
       "  </tbody>\n",
       "</table>\n",
       "</div>"
      ],
      "text/plain": [
       "              word\n",
       "24695  tahomaarial\n",
       "24097       street\n",
       "15783      mexicos\n",
       "14723      longrun\n",
       "8018   eliminating"
      ]
     },
     "execution_count": 4,
     "metadata": {},
     "output_type": "execute_result"
    }
   ],
   "source": [
    "vocab_data.sample(5, random_state=4)"
   ]
  },
  {
   "cell_type": "markdown",
   "metadata": {},
   "source": [
    "Again, this all appears to be as described, and is obviously nominal categorical data. "
   ]
  },
  {
   "cell_type": "code",
   "execution_count": 5,
   "metadata": {},
   "outputs": [
    {
     "data": {
      "text/html": [
       "<div>\n",
       "<style scoped>\n",
       "    .dataframe tbody tr th:only-of-type {\n",
       "        vertical-align: middle;\n",
       "    }\n",
       "\n",
       "    .dataframe tbody tr th {\n",
       "        vertical-align: top;\n",
       "    }\n",
       "\n",
       "    .dataframe thead th {\n",
       "        text-align: right;\n",
       "    }\n",
       "</style>\n",
       "<table border=\"1\" class=\"dataframe\">\n",
       "  <thead>\n",
       "    <tr style=\"text-align: right;\">\n",
       "      <th></th>\n",
       "      <th>docID</th>\n",
       "      <th>wordID</th>\n",
       "      <th>count</th>\n",
       "    </tr>\n",
       "  </thead>\n",
       "  <tbody>\n",
       "    <tr>\n",
       "      <th>count</th>\n",
       "      <td>3.710420e+06</td>\n",
       "      <td>3.710420e+06</td>\n",
       "      <td>3.710420e+06</td>\n",
       "    </tr>\n",
       "    <tr>\n",
       "      <th>mean</th>\n",
       "      <td>2.268149e+04</td>\n",
       "      <td>1.393388e+04</td>\n",
       "      <td>1.728153e+00</td>\n",
       "    </tr>\n",
       "    <tr>\n",
       "      <th>std</th>\n",
       "      <td>1.094254e+04</td>\n",
       "      <td>8.020984e+03</td>\n",
       "      <td>2.565260e+00</td>\n",
       "    </tr>\n",
       "    <tr>\n",
       "      <th>min</th>\n",
       "      <td>1.000000e+00</td>\n",
       "      <td>1.000000e+00</td>\n",
       "      <td>1.000000e+00</td>\n",
       "    </tr>\n",
       "    <tr>\n",
       "      <th>25%</th>\n",
       "      <td>1.403200e+04</td>\n",
       "      <td>6.808000e+03</td>\n",
       "      <td>1.000000e+00</td>\n",
       "    </tr>\n",
       "    <tr>\n",
       "      <th>50%</th>\n",
       "      <td>2.557000e+04</td>\n",
       "      <td>1.415600e+04</td>\n",
       "      <td>1.000000e+00</td>\n",
       "    </tr>\n",
       "    <tr>\n",
       "      <th>75%</th>\n",
       "      <td>3.168300e+04</td>\n",
       "      <td>2.083500e+04</td>\n",
       "      <td>2.000000e+00</td>\n",
       "    </tr>\n",
       "    <tr>\n",
       "      <th>max</th>\n",
       "      <td>3.986100e+04</td>\n",
       "      <td>2.810200e+04</td>\n",
       "      <td>4.030000e+02</td>\n",
       "    </tr>\n",
       "  </tbody>\n",
       "</table>\n",
       "</div>"
      ],
      "text/plain": [
       "              docID        wordID         count\n",
       "count  3.710420e+06  3.710420e+06  3.710420e+06\n",
       "mean   2.268149e+04  1.393388e+04  1.728153e+00\n",
       "std    1.094254e+04  8.020984e+03  2.565260e+00\n",
       "min    1.000000e+00  1.000000e+00  1.000000e+00\n",
       "25%    1.403200e+04  6.808000e+03  1.000000e+00\n",
       "50%    2.557000e+04  1.415600e+04  1.000000e+00\n",
       "75%    3.168300e+04  2.083500e+04  2.000000e+00\n",
       "max    3.986100e+04  2.810200e+04  4.030000e+02"
      ]
     },
     "execution_count": 5,
     "metadata": {},
     "output_type": "execute_result"
    }
   ],
   "source": [
    "# Descriptive statistics\n",
    "docword_data.describe()"
   ]
  },
  {
   "cell_type": "markdown",
   "metadata": {},
   "source": [
    "While not the easiest to read, the above statistical description does confirm that the wordID does not start from zero, there are 39861 documents and 28102 discrete words. Also interesting to note, is that while the minimum number of times a word appears in a document is one, and the mean is 1.728, and the 75% is two, the max is 403, which is (relatively) a huge number. "
   ]
  },
  {
   "cell_type": "code",
   "execution_count": 6,
   "metadata": {},
   "outputs": [
    {
     "data": {
      "text/html": [
       "<div>\n",
       "<style scoped>\n",
       "    .dataframe tbody tr th:only-of-type {\n",
       "        vertical-align: middle;\n",
       "    }\n",
       "\n",
       "    .dataframe tbody tr th {\n",
       "        vertical-align: top;\n",
       "    }\n",
       "\n",
       "    .dataframe thead th {\n",
       "        text-align: right;\n",
       "    }\n",
       "</style>\n",
       "<table border=\"1\" class=\"dataframe\">\n",
       "  <thead>\n",
       "    <tr style=\"text-align: right;\">\n",
       "      <th></th>\n",
       "      <th>word</th>\n",
       "    </tr>\n",
       "  </thead>\n",
       "  <tbody>\n",
       "    <tr>\n",
       "      <th>count</th>\n",
       "      <td>28101</td>\n",
       "    </tr>\n",
       "    <tr>\n",
       "      <th>unique</th>\n",
       "      <td>28101</td>\n",
       "    </tr>\n",
       "    <tr>\n",
       "      <th>top</th>\n",
       "      <td>enforceability</td>\n",
       "    </tr>\n",
       "    <tr>\n",
       "      <th>freq</th>\n",
       "      <td>1</td>\n",
       "    </tr>\n",
       "  </tbody>\n",
       "</table>\n",
       "</div>"
      ],
      "text/plain": [
       "                  word\n",
       "count            28101\n",
       "unique           28101\n",
       "top     enforceability\n",
       "freq                 1"
      ]
     },
     "execution_count": 6,
     "metadata": {},
     "output_type": "execute_result"
    }
   ],
   "source": [
    "vocab_data.describe()"
   ]
  },
  {
   "cell_type": "markdown",
   "metadata": {},
   "source": [
    "Of limited use, this at least confirms that there are 28102 discrete words (shown as 28101 because it started counting from zero).  \n",
    "That means there'll be an off-by-one error for all the references between the two data structures.  "
   ]
  },
  {
   "cell_type": "markdown",
   "metadata": {},
   "source": [
    "###### Note \n",
    "It should be noted that the data in this dataset, while it will be treated as if it's features are independent, doesn't not actually have independent variables. The occurence of one word is dependent on the occurence or lack of occurent of other words preceeding it in a sentence. "
   ]
  },
  {
   "cell_type": "code",
   "execution_count": 7,
   "metadata": {},
   "outputs": [
    {
     "data": {
      "image/png": "[encoded data removed]",
      "text/plain": [
       "<Figure size 1296x576 with 1 Axes>"
      ]
     },
     "metadata": {
      "needs_background": "light"
     },
     "output_type": "display_data"
    }
   ],
   "source": [
    "word_counts = docword_data[['wordID', 'count']].groupby('wordID').sum()\n",
    "sorted_counts = word_counts.sort_values('count', ascending=False)\n",
    "high_word_counts =  sorted_counts[0:50]\n",
    "\n",
    "f = lambda x: x-1\n",
    "high_word_indexes = high_word_counts.index.tolist()\n",
    "high_word_indexes[:] = [x - 1 for x in high_word_indexes]\n",
    "most_common_words = vocab_data.iloc[high_word_indexes]['word'].values.tolist()\n",
    "most_common_word_counts = high_word_counts.iloc[0:50,:]['count'].values.tolist()\n",
    "\n",
    "fig_1, ax_1 = plt.subplots(figsize=(18,8))\n",
    "ax_1.bar(most_common_words, most_common_word_counts)\n",
    "plt.xticks(rotation='vertical');"
   ]
  },
  {
   "cell_type": "markdown",
   "metadata": {},
   "source": [
    "The most common words occur thousands of times more than any word after them, and even then the most common two words occur as many times more than the fifth most common word, as that word does the sixth.  \n",
    "The 21 top words are all nouns, or can be used as nouns. The 22nd word; 'think', is the most common word that isn't a noun. "
   ]
  },
  {
   "cell_type": "code",
   "execution_count": 8,
   "metadata": {},
   "outputs": [
    {
     "data": {
      "image/png": "[encoded data removed]",
      "text/plain": [
       "<Figure size 1296x576 with 1 Axes>"
      ]
     },
     "metadata": {
      "needs_background": "light"
     },
     "output_type": "display_data"
    }
   ],
   "source": [
    "low_word_counts =  sorted_counts[-50:]\n",
    "\n",
    "f = lambda x: x-1\n",
    "low_word_indexes = low_word_counts.index.tolist()\n",
    "low_word_indexes[:] = [x - 1 for x in low_word_indexes]\n",
    "least_common_words = vocab_data.iloc[low_word_indexes]['word'].values.tolist()\n",
    "least_common_word_counts = low_word_counts.iloc[0:50,:]['count'].values.tolist()\n",
    "\n",
    "fig_2, ax_2 = plt.subplots(figsize=(18,8))\n",
    "ax_2.bar(least_common_words, least_common_word_counts)\n",
    "plt.xticks(rotation='vertical');"
   ]
  },
  {
   "cell_type": "markdown",
   "metadata": {},
   "source": [
    "There are three words that occur only once in the entire dataset; 'am1000', 'lynnout', 'mtgraetta'. A lot of the least comon words look like misspellings and typos. "
   ]
  },
  {
   "cell_type": "code",
   "execution_count": 9,
   "metadata": {},
   "outputs": [
    {
     "data": {
      "text/plain": [
       "count    39861.000000\n",
       "mean        93.083967\n",
       "std        189.834616\n",
       "min          2.000000\n",
       "25%         22.000000\n",
       "50%         42.000000\n",
       "75%         87.000000\n",
       "max       2120.000000\n",
       "Name: docID, dtype: float64"
      ]
     },
     "execution_count": 9,
     "metadata": {},
     "output_type": "execute_result"
    }
   ],
   "source": [
    "# Length of emails\n",
    "number_of_words_in_documents = docword_data['docID'].value_counts().sort_index()\n",
    "\n",
    "number_of_words_in_documents.describe()"
   ]
  },
  {
   "cell_type": "code",
   "execution_count": 10,
   "metadata": {},
   "outputs": [
    {
     "data": {
      "text/plain": [
       "DescribeResult(nobs=39861, minmax=(2, 2120), mean=93.0839667845764, variance=36037.181333747416, skewness=6.3306948196075785, kurtosis=48.167241077437176)"
      ]
     },
     "execution_count": 10,
     "metadata": {},
     "output_type": "execute_result"
    }
   ],
   "source": [
    "stats.describe(number_of_words_in_documents)"
   ]
  },
  {
   "cell_type": "markdown",
   "metadata": {},
   "source": [
    "The range of lengths of emails is huge, ranging from two (which I assume has many uncommon words removed), to 2120, which is _huge_. I'm guessing it contained some sort of very long report? Or was some sort of conversation where the reply contains the initial message, and then the reply to that contains the inital message and the first reply, and so on? The size of the largest emails is incredible from my experience of working in a corporate environment, and it screams outlier to me. Further analysis is obviously necessary. "
   ]
  },
  {
   "cell_type": "code",
   "execution_count": 11,
   "metadata": {},
   "outputs": [
    {
     "data": {
      "image/png": "[encoded data removed]",
      "text/plain": [
       "<Figure size 432x288 with 1 Axes>"
      ]
     },
     "metadata": {
      "needs_background": "light"
     },
     "output_type": "display_data"
    }
   ],
   "source": [
    "ax_single = sns.distplot(number_of_words_in_documents, hist=False)\n",
    "ax_single.set(title='Number of words in each document', xlabel='Number of words in documents', ylabel='Proportion of distribution that has X value');"
   ]
  },
  {
   "cell_type": "code",
   "execution_count": 12,
   "metadata": {},
   "outputs": [
    {
     "data": {
      "text/plain": [
       "945"
      ]
     },
     "execution_count": 12,
     "metadata": {},
     "output_type": "execute_result"
    }
   ],
   "source": [
    "number_of_words_in_documents.loc[number_of_words_in_documents > 500].size"
   ]
  },
  {
   "cell_type": "markdown",
   "metadata": {},
   "source": [
    "Only 2.4% of the emails. Even so, over 500 words? I don't think I've ever written a single email of 500 words at work. Unless they're sending whole reports in the body of emails? Given the preprocessing done to this dataset prior to me getting it, I don't think I'll be able to find out here. I have heard that the original dataset is still available, so maybe I'll find out in a future analysis. \n",
    "\n",
    "As for the rest of the numbers; there is significant skew and huge kurtosis, and the mean is more than twice the 50th percentile. Given that 2.4% of the emails are unusually long, it is possible that the mean has been skewed, since half the emails are in the 22-78 range. \n",
    "\n",
    "Before I graph this to see it, I'm just curious as to how much of the data-space has actual data in it, and how much is empty (how much of it is zero). "
   ]
  },
  {
   "cell_type": "code",
   "execution_count": 13,
   "metadata": {},
   "outputs": [
    {
     "name": "stdout",
     "output_type": "stream",
     "text": [
      "Total data-space: 1120173822\n",
      "Total data: 3710420\n",
      "Percentage of data-space filled with data: 0.331%\n",
      "Percentage of data-space left empty: 99.669%\n"
     ]
    }
   ],
   "source": [
    "### Total data-space = number of documents * number of words\n",
    "data_space = docword_data['docID'].max() * vocab_data.size\n",
    "data_volume = docword_data.groupby('docID')['wordID'].count().sum()\n",
    "\n",
    "print('Total data-space: {}'.format(data_space))\n",
    "print('Total data: {}'.format(data_volume))\n",
    "print('Percentage of data-space filled with data: {}%'.format('%0.3f' % ((data_volume/data_space)*100)))\n",
    "print('Percentage of data-space left empty: {}%'.format('%0.3f' % ((1-(data_volume/data_space))*100)))"
   ]
  },
  {
   "cell_type": "markdown",
   "metadata": {},
   "source": [
    "There's a lot of data, and it takes up nearly none of the space it exists in. "
   ]
  },
  {
   "cell_type": "code",
   "execution_count": 14,
   "metadata": {},
   "outputs": [
    {
     "data": {
      "image/png": "[encoded data removed]",
      "text/plain": [
       "<Figure size 1296x288 with 2 Axes>"
      ]
     },
     "metadata": {
      "needs_background": "light"
     },
     "output_type": "display_data"
    }
   ],
   "source": [
    "# Outlier visualisation - inclusion\n",
    "fig_3, ax_3 = plt.subplots(1,2,figsize=(18,4))\n",
    "\n",
    "sns.boxplot(x='count', data=word_counts, ax=ax_3[0])\n",
    "sns.boxplot(x=number_of_words_in_documents.data, data=number_of_words_in_documents, ax=ax_3[1])\n",
    "\n",
    "ax_3[0].set(title='Word Counts', xlabel='Number of times a word occurs across all documents')\n",
    "ax_3[1].set(title='Number of Words per Document', xlabel='Number of words in each document')\n",
    "\n",
    "fig_3.tight_layout()"
   ]
  },
  {
   "cell_type": "markdown",
   "metadata": {},
   "source": [
    "Obviously, there is some serious imbalance here, that makes this difficult to see. Since this is ratio data, the hard lower limit of zero means there's only one way to tail, and the right hand tails are huge here. If I remove them, and show box plots of what's left: "
   ]
  },
  {
   "cell_type": "code",
   "execution_count": 15,
   "metadata": {},
   "outputs": [
    {
     "data": {
      "image/png": "[encoded data removed]",
      "text/plain": [
       "<Figure size 1296x288 with 2 Axes>"
      ]
     },
     "metadata": {
      "needs_background": "light"
     },
     "output_type": "display_data"
    }
   ],
   "source": [
    "# Outlier visualisation - exclusion\n",
    "fig_4, ax_4 = plt.subplots(1,2,figsize=(18,4))\n",
    "\n",
    "subset_of_word_counts = word_counts.sort_values(by='count', ascending=False)[10000:]\n",
    "subset_of_number_of_words_in_documents = number_of_words_in_documents.sort_values(ascending=False)[7500:]\n",
    "\n",
    "sns.boxplot(x='count', data=subset_of_word_counts, ax=ax_4[0])\n",
    "sns.boxplot(x=subset_of_number_of_words_in_documents.data, data=subset_of_number_of_words_in_documents, ax=ax_4[1])\n",
    "\n",
    "ax_4[0].set(title='Word Counts', xlabel='Number of times a word occurs across all documents - least numerous 18102 examples')\n",
    "ax_4[1].set(title='Number of Words per Document', xlabel='Number of words in each document - least numberous 32361 examples')\n",
    "\n",
    "fig_4.tight_layout()"
   ]
  },
  {
   "cell_type": "markdown",
   "metadata": {},
   "source": [
    "So without the tails, the boxplots look much more normal, so there are cores of more similar data, with a large amounts of rarer instances on the right tails. At this point, my normal EDA process runs out, as this data doesn't display comprehendably in scatter graphs or pairplots.  \n",
    "\n",
    "Since there isn't really a good way to visualise very low density, very high dimensional data, I'll now move on to the analysis. "
   ]
  }
 ],
 "metadata": {
  "kernelspec": {
   "display_name": "Python 3",
   "language": "python",
   "name": "python3"
  },
  "language_info": {
   "codemirror_mode": {
    "name": "ipython",
    "version": 3
   },
   "file_extension": ".py",
   "mimetype": "text/x-python",
   "name": "python",
   "nbconvert_exporter": "python",
   "pygments_lexer": "ipython3",
   "version": "3.6.6"
  }
 },
 "nbformat": 4,
 "nbformat_minor": 2
}
